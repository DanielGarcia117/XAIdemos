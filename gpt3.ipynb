{
 "cells": [
  {
   "cell_type": "code",
   "execution_count": 2,
   "metadata": {},
   "outputs": [],
   "source": [
    "import os\n",
    "import openai"
   ]
  },
  {
   "cell_type": "code",
   "execution_count": 16,
   "metadata": {},
   "outputs": [],
   "source": [
    "def GPT_Completion(texts):\n",
    "## Call the API key under your account (in a secure way)\n",
    "    openai.api_key = \"\"\n",
    "    response = openai.Completion.create(\n",
    "    engine=\"text-davinci-002\",\n",
    "    prompt =  texts,\n",
    "    temperature = 0.6,\n",
    "    top_p = 1,\n",
    "    max_tokens = 364,\n",
    "    frequency_penalty = 0,\n",
    "    presence_penalty = 0\n",
    "    )\n",
    "    return print(response.choices[0].text)"
   ]
  },
  {
   "cell_type": "code",
   "execution_count": 29,
   "metadata": {},
   "outputs": [
    {
     "name": "stdout",
     "output_type": "stream",
     "text": [
      ")\n",
      "\n",
      "import lime import numpy as np import sklearn import sklearn.datasets import sklearn.ensemble import matplotlib.pyplot as plt %matplotlib inline np.random.seed(1) data, labels = sklearn.datasets.make_classification(n_features=2, n_redundant=0, n_informative=2, n_clusters_per_class=2, n_samples=1000) plt.scatter(data[:,0], data[:,1], c=labels, cmap=plt.cm.RdBu) plt.xlabel(\"Feature 1\") plt.ylabel(\"Feature 2\") plt.title(\"Visualization of generated data\") plt.show() class_names = ['0', '1'] explainer = lime.lime_tabular.LimeTabularExplainer(training_data=data, feature_names=['feature1', 'feature2'], class_names=class_names, categorical_features=None, categorical_names=None, kernel_width=3, verbose=True, class_frequency=None, feature_selection='auto', discretize_continuous=True, discretizer='quartile') exp = explainer.explain_instance(data[0], ensemble.predict_proba, num_features=2, top_labels=1) exp.show_in_notebook(show_table=True, show_all=False)\n"
     ]
    }
   ],
   "source": [
    "GPT_Completion(\"Create LIME example (Python)\")"
   ]
  },
  {
   "cell_type": "code",
   "execution_count": 5,
   "metadata": {},
   "outputs": [],
   "source": []
  },
  {
   "cell_type": "code",
   "execution_count": null,
   "metadata": {},
   "outputs": [],
   "source": []
  }
 ],
 "metadata": {
  "interpreter": {
   "hash": "916dbcbb3f70747c44a77c7bcd40155683ae19c65e1c03b4aa3499c5328201f1"
  },
  "kernelspec": {
   "display_name": "Python 3.8.5 64-bit",
   "language": "python",
   "name": "python3"
  },
  "language_info": {
   "codemirror_mode": {
    "name": "ipython",
    "version": 3
   },
   "file_extension": ".py",
   "mimetype": "text/x-python",
   "name": "python",
   "nbconvert_exporter": "python",
   "pygments_lexer": "ipython3",
   "version": "3.8.5"
  },
  "orig_nbformat": 4
 },
 "nbformat": 4,
 "nbformat_minor": 2
}
